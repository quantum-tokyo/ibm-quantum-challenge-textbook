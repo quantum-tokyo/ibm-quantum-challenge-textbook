{
 "cells": [
  {
   "attachments": {},
   "cell_type": "markdown",
   "metadata": {
    "editable": true,
    "slideshow": {
     "slide_type": ""
    },
    "tags": []
   },
   "source": [
    "# 反復位相推定（2023年春 Lab3）\n",
    "\n",
    "\n",
    "量子位相推定（Quantum phase estimation, QPE）アルゴリズムは、最も重要で有名な量子アルゴリズムの1つです。Shorの因数分解アルゴリズムの重要なサブルーチンであり、量子シミュレーションのアルゴリズムでもあります。このアルゴリズムのテキストブックのバージョンは、精度に応じて数がスケールする補助量子ビットを使用するため、今日のノイズのあるデバイスでは量子ビットの数や接続性が限られていることから、実行が困難な回路となっています。\n",
    "\n",
    "反復位相推定（Iterative phase estimation, IPE）は、1つの補助量子ビットしか必要としないQPEの変種です。IPEでは、補助量子ビットを繰り返し測定し、測定結果をその後の量子演算の補助として利用します。Dynamic circuit(動的回路)が導入されるまで、このような古典的なフィードフォワードは、IBMの量子ハードウェアでは実行不可能でした。\n",
    "\n",
    "ここでは、最近実装されたDynamic circuitの機能を使って、IPEを実装します。"
   ]
  },
  {
   "attachments": {},
   "cell_type": "markdown",
   "metadata": {
    "editable": true,
    "slideshow": {
     "slide_type": ""
    },
    "tags": []
   },
   "source": [
    "## 背景\n",
    "\n",
    "他の位相推定アルゴリズムと同じように、IPEは以下の問題を解くために設計されています：\n",
    "\n",
    "**問題文:** ユニタリー行列 $U$ と 未知の固有値 $e^{i 2\\pi \\varphi}$ を持つ $U$ の固有状態 $|\\Psi\\rangle$ が与えられたとき、 $\\varphi$ の値を推定せよ。\n",
    "\n",
    "この問題文では、いくつかの重要な詳細を明らかにする必要があります。すなわち、 $U$ と $|\\Psi\\rangle$ がどのように指定されるかです。 $U$ は $U$ を実装した量子回路として与えられ、実際に、正の整数 $t$ に対して *制御*  $U^{2^t}$ という演算を効率よく実装できる能力があると仮定します。これは、オリジナルのQPEアルゴリズムで用いられたものと同じ仮定です。固有状態も量子回路として与えられます：つまり、 $|\\Psi\\rangle$ を効率的に準備できると仮定します。\n",
    "\n",
    "\n",
    "まず、簡単のために、 $\\varphi$ が正確なバイナリー展開できると仮定しましょう。つまり、次のように書くことができると仮定します。\n",
    "\n",
    "$$\n",
    "\\varphi = \\varphi_1/2 + \\varphi_2/4 + \\cdots + \\varphi_m/2^m = 0.\\varphi_1 \\varphi_2 \\cdots \\varphi_m\n",
    "$$\n",
    "\n",
    "ここで、最後の等式では、二進数の「小数」表記を使用しています。簡単のために、 $U$ が1つの量子ビットに作用するユニタリー演算子であるとします（ここで述べていることはすべて、 $U$ が複数の量子ビットに作用する場合にも適用されます）。IPEは補助量子ビットを必要とするので、 $q_0$ と $q_1$ という2つの量子ビットのシステムが必要であり、 $q_0$ は補助量子ビット、 $q_1$ は $U$ が作用する物理系を表します。\n",
    "\n",
    "ここで、 $q_0$ を $|+\\rangle = \\frac{|0\\rangle + |1\\rangle}{\\sqrt{2}}$ の状態に、 $q_1$ を $|\\Psi \\rangle$ の状態に初期化するとします。  $q_0$ をコントロール、 $q_1$ をターゲットとして、 *制御* $U^{2^t}$ ゲートを適用するとどうなるでしょうか?  $|\\Psi \\rangle$ は固有値  $e^{i 2\\pi \\varphi}$ を持つ $U$ の固有状態であるため、次のようになります。\n",
    "\n",
    "$$\n",
    "\\begin{align}\n",
    "|+\\rangle |\\Psi \\rangle &= \\left(\\frac{|0\\rangle + |1\\rangle}{\\sqrt{2}}\\right) |\\Psi \\rangle \\\\\n",
    "&= \\frac{|0\\rangle |\\Psi \\rangle + |1\\rangle |\\Psi \\rangle}{\\sqrt{2}} \\\\\n",
    "&\\xrightarrow{\\text{controlled-}U^{2^t}} \\frac{|0\\rangle |\\Psi \\rangle + e^{i 2 \\pi 2^{t} \\varphi} |1\\rangle |\\Psi \\rangle}{\\sqrt{2}} \\\\\n",
    "&= \\left(\\frac{|0\\rangle  + e^{i 2 \\pi 2^{t} \\varphi} |1\\rangle}{\\sqrt{2}}\\right) |\\Psi \\rangle.\n",
    "\\end{align}\n",
    "$$\n",
    "\n",
    "つまり、システム量子ビットの状態は変化しませんが、位相 $e^{i 2 \\pi 2^{t} \\varphi}$ が補助量子ビットの状態に「キックバック」されました。\n",
    "\n",
    "ここで、次のことに注意してください。\n",
    "\n",
    "$$\n",
    "e^{i 2 \\pi 2^{t} \\varphi} = e^{i 2 \\pi 2^{t} (0.\\varphi_1 \\varphi_2 \\cdots \\varphi_m)}\n",
    "= e^{i 2 \\pi (\\varphi_1 \\cdots \\varphi_t . \\varphi_{t + 1} \\cdots \\varphi_m)}\n",
    "= e^{i 2 \\pi (0. \\varphi_{t + 1} \\cdots \\varphi_m)},\n",
    "$$\n",
    "\n",
    "ここで、最後の等式では、任意の整数 $n$ に対して  $e^{i 2\\pi n} = 1$  であるため、位相の「小数」表現の整数部分が消えています。 例えば：\n",
    "\n",
    "- $t=0$ の場合、位相は $e^{i 2 \\pi 2^{0} \\varphi} = e^{i 2 \\pi \\varphi} = e^{i 2 \\pi 0.\\varphi_1 \\varphi_2 ... \\varphi_m}$ になります。\n",
    "- $t=1$ の場合、位相は $e^{i 2 \\pi 2^{1} \\varphi}= e^{i 2 \\pi \\varphi_1} e^{i 2 \\pi 0.\\varphi_2 \\varphi_3 ... \\varphi_m} = e^{i 2 \\pi 0.\\varphi_2 \\varphi_3 ... \\varphi_m}$ になります。\n",
    "- $t=2$ の場合、位相は $e^{i 2 \\pi 2^{2} \\varphi} = e^{i 2 \\pi 0.\\varphi_3 \\varphi_4 ... \\varphi_m}$ になります。\n",
    "- $t=m-1$ の場合、位相は $e^{i 2 \\pi 2^{m-1} \\varphi} = e^{i 2 \\pi 0.\\varphi_m}$ になります。\n",
    "\n",
    "\n",
    "$t = m - 1$ の最後のケースでは、位相は $e^{i 2 \\pi 0.\\varphi_m}$ で、 $\\varphi_m = 0$ の場合は $1$ 、 $\\varphi_m = 1$ の場合は $-1$ に等しくなります。 最初のケースでは、補助量子ビット $q_0$ は  $|+\\rangle = \\frac{|0\\rangle + |1\\rangle}{\\sqrt{2}}$ の状態になり、2 番目のケースでは $|-\\rangle = \\frac{|0\\rangle - |1\\rangle}{\\sqrt{2}}$ の状態になります。 したがって、パウリの $X$ 基底で量子ビットを測定すると、これらのケースを 100% の成功率で区別できます。 これは、量子ビットを測定する前に量子ビットに対してアダマール ゲートを実行することによって行われます。 最初のケースでは 0 を測定し、2 番目のケースでは 1 を測定します。 言い換えれば、測定されたビットは $\\varphi_m$ と等しくなります。\n",
    "\n",
    "### アルゴリズム\n",
    "\n",
    "\n",
    "IPE アルゴリズムの最初のステップでは、上記で説明したように 2 量子ビットレジスターを初期化 ( $q_0 \\rightarrow |+\\rangle$ と $q_1 \\rightarrow |\\Psi \\rangle$ )し、*制御* $U^{2^{m-1}}$ を実行することで、位相$\\varphi$の最下位ビット$\\varphi_m$を直接測定し、パウリの $X$ 基底で $q_0$ を測定します。\n",
    "\n",
    "\n",
    "2 番目のステップでは、同じ方法でシステムを初期化し、*制御* $U^{2^{m-2}}$ 演算を適用します。 これらの操作後の $q_0$ の相対位相は $e^{i 2 \\pi 0.\\varphi_{m-1}\\varphi_{m}}= e^{i 2 \\pi 0.\\varphi_{m-1}} e^{i 2 \\pi \\varphi_m/4}$ になります。 位相ビット $\\varphi_{m-1}$ を抽出するには、まず $Z$ 軸の周りを角度 $-2 \\pi \\varphi_m/4=-\\pi \\varphi_m/2$ だけ回転させて位相補正を実行します。その結果、$q_0$ の状態は $|0\\rangle + e^{i 2 \\pi 0.\\varphi_{m-1}} | 1 \\rangle$ になります。 パウリの $X$ 基底で $q_0$ の測定を実行し、位相ビット $\\varphi_{m-1}$ を取得します。\n",
    "\n",
    "したがって、 $\\varphi_{m-k+1}$ を取得する IPE の $k$ 番目のステップは、レジスターの初期化 ($q_0$ を $|+\\rangle$ に、 $q_1$ を $|\\Psi\\rangle$ に)、*制御* $U^{2^{m-k}}$ の適用、および$Z$ 軸周りの角度  $\\omega_k = -2 \\pi 0.0\\varphi_{m-k+2} ... \\varphi_m$ の回転とパウリの $X$ 基底での $q_0$ の測定(つまり、 $q_0$ をアダマール変換後、計算基底で $q_0$ を測定)、から構成されます。 $q_1$ はアルゴリズム全体を通じて状態 $|\\Psi\\rangle$ のままであることに注意してください。"
   ]
  },
  {
   "attachments": {},
   "cell_type": "markdown",
   "metadata": {
    "editable": true,
    "slideshow": {
     "slide_type": ""
    },
    "tags": []
   },
   "source": [
    "## 実装\n",
    "\n",
    "\n",
    "このLabでは、単一量子ビットの $S$ ゲートのIPEを行います。 $S$ ゲートは、次の行列で与えられます。\n",
    "\n",
    "$$ S =\n",
    "\\begin{bmatrix}\n",
    "1 & 0\\\\\\\\\n",
    "0 & e^{i\\pi / 2}\\\\\\\\\n",
    "\\end{bmatrix}$$\n",
    "\n",
    "\n",
    "固有値 $e^{i\\pi / 2}= e^{i2\\pi \\cdot 1/4}$ を持つ、固有ベクトル $|\\Psi\\rangle = |1\\rangle$ を使います。よって、 $\\varphi = 1/4 = 0.01 = 0.\\varphi_1 \\varphi_2$ となります。 $\\varphi$ は2ビットで完全に表現できるため、結果を格納するための2ビットの古典ビットを持つ量子回路を使います。\n",
    "\n",
    "\n",
    "制御 $S$ ゲートは、制御位相ゲート(Qiskitでは `CPhaseGate` )を使って実装でき、 `QuantumCircuit` の `cp` メソッドを呼び出すことでも適用できます。制御位相ゲートは角度 $\\theta$ でパラメーター化され、次の行列を持ちます。\n",
    "\n",
    "$$\n",
    "        \\text{CPhase}(\\theta) =\n",
    "            \\begin{pmatrix}\n",
    "                1 & 0 & 0 & 0 \\\\\n",
    "                0 & 1 & 0 & 0 \\\\\n",
    "                0 & 0 & 1 & 0 \\\\\n",
    "                0 & 0 & 0 & e^{i\\theta}\n",
    "            \\end{pmatrix}\n",
    "$$"
   ]
  },
  {
   "attachments": {},
   "cell_type": "markdown",
   "metadata": {
    "editable": true,
    "slideshow": {
     "slide_type": ""
    },
    "tags": []
   },
   "source": [
    "\n",
    "### ステップ 1\n",
    "\n",
    "アルゴリズムの最初のステップで、 $\\varphi$の最下位ビットを測定します。\n",
    "\n",
    "そのためには以下のステップを実行します。：\n",
    "1. 量子ビットを初期化します:\n",
    "   - 補助量子ビットにアダマールゲートを適用。\n",
    "   - Xゲートをシステムの量子ビットに適用し、 $|1\\rangle$ の状態にする。\n",
    "2. 適当な角度の `CPhaseGate` を適用することで、*制御* $S^{2}$ ゲートを適用します。\n",
    "3. $X$ 基底で補助量子ビットを測定します:\n",
    "   - 補助量子ビットにアダマールゲートを適用。\n",
    "   - 計算基底で上記を測定。\n",
    "\n",
    "その結果回路は、以下のようになるはずです：\n",
    "\n",
    "![step1-circuit](resources/2023-spring-step1circuit.png)"
   ]
  },
  {
   "cell_type": "markdown",
   "metadata": {
    "editable": true,
    "slideshow": {
     "slide_type": ""
    },
    "tags": []
   },
   "source": [
    "````{admonition} Exercise 1: ステップ1の実装\n",
    "ステップ1の実行をQiskitで実装してみましょう。\n",
    "\n",
    "```python\n",
    "from qiskit import ClassicalRegister, QuantumCircuit, QuantumRegister\n",
    "import numpy as np\n",
    "\n",
    "\n",
    "def step_1_circuit(qr: QuantumRegister, cr: ClassicalRegister) -> QuantumCircuit:\n",
    "    # qr is a quantum register with 2 qubits\n",
    "    # cr is a classical register with 2 bits\n",
    "\n",
    "    qc = QuantumCircuit(qr, cr)\n",
    "\n",
    "    ####### your code goes here #######\n",
    "\n",
    "    return qc\n",
    "\n",
    "\n",
    "qr = QuantumRegister(2, \"q\")\n",
    "cr = ClassicalRegister(2, \"c\")\n",
    "qc = QuantumCircuit(qr, cr)\n",
    "qc = step_1_circuit(qr, cr)\n",
    "qc.draw(\"mpl\")\n",
    "```\n",
    "````"
   ]
  },
  {
   "cell_type": "code",
   "execution_count": 1,
   "metadata": {
    "editable": true,
    "slideshow": {
     "slide_type": ""
    },
    "tags": [
     "hide-cell"
    ]
   },
   "outputs": [
    {
     "data": {
      "image/png": "[encoded data removed]",
      "text/plain": [
       "<Figure size 454.517x284.278 with 1 Axes>"
      ]
     },
     "execution_count": 1,
     "metadata": {},
     "output_type": "execute_result"
    }
   ],
   "source": [
    "from qiskit import ClassicalRegister, QuantumCircuit, QuantumRegister\n",
    "import numpy as np\n",
    "\n",
    "\n",
    "def step_1_circuit(qr: QuantumRegister, cr: ClassicalRegister) -> QuantumCircuit:\n",
    "    # qrは2量子ビットレジスタ\n",
    "    # crは2古典ビットレジスタ\n",
    "\n",
    "    qc = QuantumCircuit(qr, cr)\n",
    "\n",
    "    ##1. 量子ビットを初期化\n",
    "    q0, q1 = qr\n",
    "    # 補助量子ビット（q0）にアダマールゲートを適用\n",
    "    qc.h(q0)\n",
    "    # Xゲートをシステムの量子ビットに適用し、|1>の状態にする。\n",
    "    qc.x(q1)\n",
    "\n",
    "    ##2. 制御位相ゲートを適用する。\n",
    "    # 制御Sゲートは位相πのCPhaseと等しい\n",
    "    s_angle = np.pi / 2\n",
    "    # 制御Sゲートを2^k回適用する。\n",
    "    # 今回は2量子ビットであり、ステップ1なので、k=2-1=1\n",
    "    k = 1\n",
    "    cphase_angle = s_angle * 2**k\n",
    "    # 制御位相ゲートを適用\n",
    "    qc.cp(cphase_angle, q0, q1)\n",
    "\n",
    "    ##3. X基底で補助量子ビットを測定する。\n",
    "    # 補助量子ビット（q0）にアダマールゲートを適用\n",
    "    qc.h(q0)\n",
    "    # 測定し、結果をc0に格納\n",
    "    c0, _ = cr\n",
    "    qc.measure(q0, c0)\n",
    "\n",
    "    return qc\n",
    "\n",
    "\n",
    "qr = QuantumRegister(2, \"q\")\n",
    "cr = ClassicalRegister(2, \"c\")\n",
    "qc = QuantumCircuit(qr, cr)\n",
    "qc = step_1_circuit(qr, cr)\n",
    "qc.draw(\"mpl\")"
   ]
  },
  {
   "attachments": {},
   "cell_type": "markdown",
   "metadata": {
    "editable": true,
    "slideshow": {
     "slide_type": ""
    },
    "tags": []
   },
   "source": [
    "### ステップ 2\n",
    "\n",
    "ステップ 1では、最下位ビット $\\varphi_2$ を測定しました。ステップ 2（最終ステップ）では、次のビット $\\varphi_1$ を抽出します。このとき、 $\\varphi_2$ からの位相寄与を打ち消すために位相補正を適用することになります。この位相補正は、 $\\varphi_2$ を保持する古典レジスターの値に依存します。この古典的なフィードバックを行うには、Dynamic circuitが必要です！位相補正は、 `PhaseGate` を使うか、QuantumCircuitの `p` メソッドを直接呼び出すことで適用することができます。\n",
    "\n",
    "具体的には、ステップ1に続き以下のステップを実行することで、 $\\varphi$ の次のビットを得ることができます：\n",
    "\n",
    "1. 補助量子ビットをリセットして再初期化する。\n",
    "2. 制御ユニタリーゲートを適用する。\n",
    "3. 補助量子ビットを $X$ 基底で測定する。\n",
    "\n",
    "その結果回路は、以下のようになるはずです：\n",
    "\n",
    "![step1-circuit](resources/2023-spring-step2circuit.png)"
   ]
  },
  {
   "cell_type": "markdown",
   "metadata": {
    "editable": true,
    "slideshow": {
     "slide_type": ""
    },
    "tags": []
   },
   "source": [
    "````{admonition} Exercise 2: ステップ2の実装\n",
    "ステップ2の実行をQiskitで実装してみましょう。\n",
    "このExerciseでは、Exercise1で作成したステップ1の回路から始めます。\n",
    "\n",
    "```python\n",
    "def step_2_circuit(qr: QuantumRegister, cr: ClassicalRegister) -> QuantumCircuit:\n",
    "    # qr is a quantum register with 2 qubits\n",
    "    # cr is a classical register with 2 bits\n",
    "\n",
    "    # begin with the circuit from Step 1\n",
    "    qc = step_1_circuit(qr, cr)\n",
    "\n",
    "    ####### your code goes here #######\n",
    "\n",
    "    return qc\n",
    "\n",
    "\n",
    "qr = QuantumRegister(2, \"q\")\n",
    "cr = ClassicalRegister(2, \"c\")\n",
    "qc = QuantumCircuit(qr, cr)\n",
    "qc = step_2_circuit(qr, cr)\n",
    "qc.draw(\"mpl\")\n",
    "```\n",
    "````"
   ]
  },
  {
   "cell_type": "code",
   "execution_count": 2,
   "metadata": {
    "editable": true,
    "slideshow": {
     "slide_type": ""
    },
    "tags": [
     "hide-cell"
    ]
   },
   "outputs": [
    {
     "data": {
      "image/png": "[encoded data removed]",
      "text/plain": [
       "<Figure size 1123.41x284.278 with 1 Axes>"
      ]
     },
     "execution_count": 2,
     "metadata": {},
     "output_type": "execute_result"
    }
   ],
   "source": [
    "def step_2_circuit(qr: QuantumRegister, cr: ClassicalRegister) -> QuantumCircuit:\n",
    "    # qrは2量子ビットレジスタ\n",
    "    # crは2古典ビットレジスタ\n",
    "\n",
    "    # Exercise1で作成したステップ1の回路から始める。\n",
    "    qc = step_1_circuit(qr, cr)\n",
    "\n",
    "    ####### your code goes here #######\n",
    "\n",
    "    ##1. 補助量子ビットをリセットして再初期化する。\n",
    "    q0, q1 = qr\n",
    "    # 補助量子ビットのリセット（|0>）\n",
    "    qc.reset(q0)\n",
    "    # アダマールゲートを適用し初期化\n",
    "    qc.h(q0)\n",
    "\n",
    "    ##2. φ_2の位相寄与を打ち消すために位相補正を適用\n",
    "    c0, c1 = cr\n",
    "    # 位相寄与は|1>のみに出るので、|0>のみについて位相補正を適用\n",
    "    with qc.if_test((c0, 1)) as else_:\n",
    "        qc.p(-np.pi/2, q0)\n",
    "\n",
    "    \n",
    "    ##3. 制御位相ゲートを適用する。\n",
    "    # 制御Sゲートは位相πのCPhaseと等しい\n",
    "    s_angle = np.pi / 2\n",
    "    # 制御Sゲートを2^k回適用する。\n",
    "    # 今回は2量子ビットであり、ステップ2なので、k=2-2=0\n",
    "    k = 0\n",
    "    cphase_angle = s_angle * 2**k\n",
    "    # 制御位相ゲートを適用\n",
    "    qc.cp(cphase_angle, q0, q1)\n",
    "\n",
    "    ##4. X基底で補助量子ビットを測定する。\n",
    "    # 補助量子ビット（q0）にアダマールゲートを適用\n",
    "    qc.h(q0)\n",
    "    # 測定し、結果をc1に格納\n",
    "    qc.measure(q0, c1)\n",
    "\n",
    "    return qc\n",
    "\n",
    "\n",
    "qr = QuantumRegister(2, \"q\")\n",
    "cr = ClassicalRegister(2, \"c\")\n",
    "qc = QuantumCircuit(qr, cr)\n",
    "qc = step_2_circuit(qr, cr)\n",
    "qc.draw(\"mpl\")"
   ]
  },
  {
   "attachments": {},
   "cell_type": "markdown",
   "metadata": {
    "editable": true,
    "slideshow": {
     "slide_type": ""
    },
    "tags": []
   },
   "source": [
    "## シミュレーターで実行\n",
    "\n",
    "回路が完成したので、まずローカルシミュレーターで動かしてみましょう。"
   ]
  },
  {
   "cell_type": "code",
   "execution_count": 3,
   "metadata": {
    "editable": true,
    "slideshow": {
     "slide_type": ""
    },
    "tags": []
   },
   "outputs": [
    {
     "data": {
      "text/plain": [
       "{'01': 1000}"
      ]
     },
     "execution_count": 3,
     "metadata": {},
     "output_type": "execute_result"
    }
   ],
   "source": [
    "from qiskit_aer import AerSimulator\n",
    "\n",
    "sim = AerSimulator()\n",
    "job = sim.run(qc, shots=1000)\n",
    "result = job.result()\n",
    "counts = result.get_counts()\n",
    "counts"
   ]
  },
  {
   "attachments": {},
   "cell_type": "markdown",
   "metadata": {
    "editable": true,
    "slideshow": {
     "slide_type": ""
    },
    "tags": []
   },
   "source": [
    "回路が正しければ、100%の確率でビット列 `01` が得られるはずです。この値は、2進数で $\\varphi = 0.01 = 1/4$ と書かれた位相に対応します。実際、これが正しい位相です！"
   ]
  },
  {
   "cell_type": "markdown",
   "metadata": {
    "editable": true,
    "slideshow": {
     "slide_type": ""
    },
    "tags": []
   },
   "source": [
    "````{admonition} Exercise 3: Tゲートの位相推定回路\n",
    "以下で与えられる行列を持つ、Tゲートの位相を推定するIPE回路を構築してください。\n",
    "\n",
    "$$ T =\n",
    "\\begin{bmatrix}\n",
    "1 & 0\\\\\\\\\n",
    "0 & e^{i\\pi / 4}\\\\\\\\\n",
    "\\end{bmatrix}$$\n",
    "\n",
    "この場合、位相を表すのに必要なビットは何ビットですか？\n",
    "\n",
    "```python\n",
    "from qiskit import ClassicalRegister, QuantumCircuit, QuantumRegister\n",
    "import numpy as np\n",
    "\n",
    "\n",
    "def t_gate_ipe_circuit(qr: QuantumRegister, cr: ClassicalRegister) -> QuantumCircuit:\n",
    "    # qr is a quantum register with 2 qubits\n",
    "    # cr is a classical register with 3 bits\n",
    "\n",
    "    qc = QuantumCircuit(qr, cr)\n",
    "\n",
    "    ####### your code goes here #######\n",
    "\n",
    "    return qc\n",
    "\n",
    "\n",
    "qr = QuantumRegister(2, \"q\")\n",
    "cr = ClassicalRegister(3, \"c\")\n",
    "qc = QuantumCircuit(qr, cr)\n",
    "qc = t_gate_ipe_circuit(qr, cr)\n",
    "qc.draw(\"mpl\")\n",
    "```\n",
    "````"
   ]
  },
  {
   "cell_type": "markdown",
   "metadata": {
    "editable": true,
    "slideshow": {
     "slide_type": ""
    },
    "tags": []
   },
   "source": [
    "```{toggle} 解説\n",
    "$T$ は固有値 $e^{i\\pi / 4}= e^{i2\\pi \\times \\frac{1}{8}}$ を持ちます。\n",
    "\n",
    "よって $\\varphi = \\frac{1}{8} = 0.001_{(2)}$ であり、 $\\varphi $ は3ビットで完全に表現されます。\n",
    "```"
   ]
  },
  {
   "cell_type": "code",
   "execution_count": 4,
   "metadata": {
    "editable": true,
    "slideshow": {
     "slide_type": ""
    },
    "tags": [
     "hide-cell"
    ]
   },
   "outputs": [
    {
     "data": {
      "image/png": "[encoded data removed]",
      "text/plain": [
       "<Figure size 1959.52x284.278 with 1 Axes>"
      ]
     },
     "execution_count": 4,
     "metadata": {},
     "output_type": "execute_result"
    }
   ],
   "source": [
    "from qiskit import ClassicalRegister, QuantumCircuit, QuantumRegister\n",
    "import numpy as np\n",
    "\n",
    "\n",
    "def t_gate_ipe_circuit(qr: QuantumRegister, cr: ClassicalRegister) -> QuantumCircuit:\n",
    "    # qrは2量子ビットレジスタ\n",
    "    # crは3古典ビットレジスタ\n",
    "\n",
    "    qc = QuantumCircuit(qr, cr)\n",
    "\n",
    "    # 初期化する\n",
    "    q0, q1 = qr\n",
    "    qc.h(q0)\n",
    "    qc.x(q1)\n",
    "\n",
    "    # 最下位の位相ビットを取得するために必要なだけ制御ユニタリ演算子を適用する\n",
    "    t_angle = np.pi / 4\n",
    "    k = 2\n",
    "    cphase_angle = t_angle * 2**k\n",
    "    qc.cp(cphase_angle, q0, q1)\n",
    "\n",
    "    # X基底で補助量子ビットを測定する\n",
    "    qc.h(q0)\n",
    "    c0, c1, c2 = cr\n",
    "    qc.measure(q0, c0)\n",
    "\n",
    "    # 補助量子ビットをリセットし、アダマールゲートで再初期化する\n",
    "    qc.reset(q0)\n",
    "    qc.h(q0)\n",
    "\n",
    "    # 最初の古典ビットを条件として位相補正を適用する\n",
    "    with qc.if_test((c0, 1)):\n",
    "        qc.p(-np.pi / 2, q0)\n",
    "\n",
    "    # 次の位相ビットを取得するために必要なだけ制御ユニタリ演算子を適用する\n",
    "    k = 1\n",
    "    cphase_angle = t_angle * 2**k\n",
    "    qc.cp(cphase_angle, q0, q1)\n",
    "\n",
    "    #  X基底で補助量子ビットを測定し、2番目の古典ビットに格納する\n",
    "    qc.h(q0)\n",
    "    qc.measure(q0, c1)\n",
    "\n",
    "    # 補助量子ビットをリセットし、アダマールゲートで再初期化する\n",
    "    qc.reset(q0)\n",
    "    qc.h(q0)\n",
    "\n",
    "    # 一番目と二番目の古典ビットを条件として位相補正を適用する\n",
    "    with qc.if_test((c0, 1)):\n",
    "        qc.p(-np.pi / 4, q0)\n",
    "    with qc.if_test((c1, 1)):\n",
    "        qc.p(-np.pi / 2, q0)\n",
    "\n",
    "    # さらに次の位相ビットを取得するために必要なだけ制御ユニタリ演算子を適用する\n",
    "    k = 0\n",
    "    cphase_angle = t_angle * 2**k\n",
    "    qc.cp(cphase_angle, q0, q1)\n",
    "\n",
    "    #  X基底で補助量子ビットを測定し、3番目の古典ビットに格納する\n",
    "    qc.h(q0)\n",
    "    qc.measure(q0, c2)\n",
    "\n",
    "    return qc\n",
    "\n",
    "\n",
    "qr = QuantumRegister(2, \"q\")\n",
    "cr = ClassicalRegister(3, \"c\")\n",
    "qc = QuantumCircuit(qr, cr)\n",
    "qc = t_gate_ipe_circuit(qr, cr)\n",
    "qc.draw(\"mpl\")"
   ]
  },
  {
   "cell_type": "code",
   "execution_count": 5,
   "metadata": {
    "editable": true,
    "slideshow": {
     "slide_type": ""
    },
    "tags": []
   },
   "outputs": [
    {
     "data": {
      "text/plain": [
       "{'001': 1000}"
      ]
     },
     "execution_count": 5,
     "metadata": {},
     "output_type": "execute_result"
    }
   ],
   "source": [
    "from qiskit_aer import AerSimulator\n",
    "\n",
    "sim = AerSimulator()\n",
    "job = sim.run(qc, shots=1000)\n",
    "result = job.result()\n",
    "counts = result.get_counts()\n",
    "counts"
   ]
  },
  {
   "attachments": {},
   "cell_type": "markdown",
   "metadata": {
    "editable": true,
    "slideshow": {
     "slide_type": ""
    },
    "tags": []
   },
   "source": [
    "## 位相が正確な2進数展開を持たない場合\n",
    "\n",
    "位相が正確な2進数展開をしない場合、例えば $\\varphi = 1/3$ の場合を考えてみましょう。\n",
    "この場合、1量子ビットゲートは、次のユニタリー行列になります。\n",
    "\n",
    "\n",
    "$$ U =\n",
    "\\begin{bmatrix}\n",
    "1 & 0\\\\\\\\\n",
    "0 & e^{i2\\pi / 3}\\\\\\\\\n",
    "\\end{bmatrix}\n",
    "$$\n",
    "\n",
    "角度 $\\varphi = 1/3$ は正確な有限なバイナリー展開を持たず、無限のバイナリー展開となります。\n",
    "\n",
    "$$\n",
    "1/3 = 0.010101\\ldots\n",
    "$$\n",
    "\n",
    "\n",
    "実際には、決まったビット数の精度で作業するので、そのビット数で表現できる最も近い値を得ることが目標になります。次の例では、2ビットの精度を使用することにします。この場合、最も近い値は $0.01 = 1/4$です。この値は正確な位相を表していないため、より精度の低い別の結果が得られる可能性があります。\n",
    "\n",
    "次のコードセルで、このゲートの位相を測定するIPE回路を構築し、シミュレーションを行います。"
   ]
  },
  {
   "cell_type": "code",
   "execution_count": 6,
   "metadata": {
    "editable": true,
    "slideshow": {
     "slide_type": ""
    },
    "tags": []
   },
   "outputs": [
    {
     "data": {
      "image/png": "[encoded data removed]",
      "text/plain": [
       "<Figure size 1207.02x284.278 with 1 Axes>"
      ]
     },
     "execution_count": 6,
     "metadata": {},
     "output_type": "execute_result"
    }
   ],
   "source": [
    "from qiskit import ClassicalRegister, QuantumCircuit, QuantumRegister\n",
    "import numpy as np\n",
    "\n",
    "\n",
    "def u_circuit(qr: QuantumRegister, cr: ClassicalRegister) -> QuantumCircuit:\n",
    "    # qrは2量子ビットレジスタ\n",
    "    # crは2古典ビットレジスタ\n",
    "\n",
    "    qc = QuantumCircuit(qr, cr)\n",
    "\n",
    "    # 初期化する\n",
    "    q0, q1 = qr\n",
    "    qc.h(q0)\n",
    "    qc.x(q1)\n",
    "\n",
    "    # 最下位の位相ビットを取得するために必要なだけ制御ユニタリ演算子を適用する\n",
    "    u_angle = 2 * np.pi / 3\n",
    "    k = 1\n",
    "    cphase_angle = u_angle * 2**k\n",
    "    qc.cp(cphase_angle, q0, q1)\n",
    "\n",
    "    # X基底で補助量子ビットを測定する\n",
    "    qc.h(q0)\n",
    "    c0, c1 = cr\n",
    "    qc.measure(q0, c0)\n",
    "\n",
    "    # 補助量子ビットをリセットし、アダマールゲートで再初期化する\n",
    "    qc.reset(q0)\n",
    "    qc.h(q0)\n",
    "\n",
    "    # 最初の古典ビットを条件として位相補正を適用する\n",
    "    with qc.if_test((c0, 1)):\n",
    "        qc.p(-np.pi / 2, q0)\n",
    "\n",
    "    # 次の位相ビットを取得するために必要なだけ制御ユニタリ演算子を適用する\n",
    "    k = 0\n",
    "    cphase_angle = u_angle * 2**k\n",
    "    qc.cp(cphase_angle, q0, q1)\n",
    "\n",
    "    # X基底で補助量子ビットを測定し、2番目の古典ビットに格納する\n",
    "    qc.h(q0)\n",
    "    qc.measure(q0, c1)\n",
    "\n",
    "    return qc\n",
    "\n",
    "\n",
    "qr = QuantumRegister(2, \"q\")\n",
    "cr = ClassicalRegister(2, \"c\")\n",
    "qc = QuantumCircuit(qr, cr)\n",
    "qc = u_circuit(qr, cr)\n",
    "qc.draw(\"mpl\")"
   ]
  },
  {
   "cell_type": "code",
   "execution_count": 7,
   "metadata": {
    "editable": true,
    "slideshow": {
     "slide_type": ""
    },
    "tags": []
   },
   "outputs": [
    {
     "name": "stdout",
     "output_type": "stream",
     "text": [
      "{'11': 54, '00': 58, '10': 167, '01': 721}\n",
      "Success probability: 0.721\n"
     ]
    }
   ],
   "source": [
    "from qiskit_aer import AerSimulator\n",
    "\n",
    "sim = AerSimulator()\n",
    "job = sim.run(qc, shots=1000)\n",
    "result = job.result()\n",
    "counts = result.get_counts()\n",
    "print(counts)\n",
    "success_probability = counts[\"01\"] / counts.shots()\n",
    "print(f\"Success probability: {success_probability}\")"
   ]
  },
  {
   "attachments": {},
   "cell_type": "markdown",
   "metadata": {
    "editable": true,
    "slideshow": {
     "slide_type": ""
    },
    "tags": []
   },
   "source": [
    "ご覧のように、今回は期待通りの結果を得ることが保証されているわけではありません。自然な疑問ですが、どうすれば成功確率を上げられるでしょうか？\n",
    "\n",
    "アルゴリズムが失敗する方法の1つは、最初に測定したビットが正しくないことです。この場合、2番目のビットを測定する前に適用される位相補正も不正確であるため、残りのビットも不正確である可能性が高くなります。この問題を軽減する簡単な方法は、最初の数ビットの測定を何度か繰り返し、多数決でビットを正しく測定する可能性を高めることです。この手順を1つの回路内に実装するには、測定した結果に対して演算を行う必要があります。Qiskitの一時的な制限により、現在、測定したビットに対して演算を行い、その結果に基づいて将来の回路動作を条件付けることはできません。そこで、ここでは各ビットを別々の回路で測定することにします。\n",
    "\n",
    "以下のコードセルで、位相の1ビット目だけを測定するためのIPE回路を構成し、シミュレーションを行います。\n"
   ]
  },
  {
   "cell_type": "code",
   "execution_count": 8,
   "metadata": {
    "editable": true,
    "slideshow": {
     "slide_type": ""
    },
    "tags": []
   },
   "outputs": [
    {
     "data": {
      "image/png": "[encoded data removed]",
      "text/plain": [
       "<Figure size 538.128x284.278 with 1 Axes>"
      ]
     },
     "execution_count": 8,
     "metadata": {},
     "output_type": "execute_result"
    }
   ],
   "source": [
    "from qiskit import ClassicalRegister, QuantumCircuit, QuantumRegister\n",
    "import numpy as np\n",
    "\n",
    "\n",
    "def u_circuit(qr: QuantumRegister, cr: ClassicalRegister) -> QuantumCircuit:\n",
    "    # qrは2量子ビットレジスタ\n",
    "    # crは1古典ビットレジスタ\n",
    "\n",
    "    qc = QuantumCircuit(qr, cr)\n",
    "\n",
    "    # 初期化する\n",
    "    q0, q1 = qr\n",
    "    qc.h(q0)\n",
    "    qc.x(q1)\n",
    "\n",
    "    # 最下位の位相ビットを取得するために必要なだけ制御ユニタリ演算子を適用する\n",
    "    u_angle = 2 * np.pi / 3\n",
    "    k = 1\n",
    "    cphase_angle = u_angle * 2**k\n",
    "    qc.cp(cphase_angle, q0, q1)\n",
    "\n",
    "    # X基底で補助量子ビットを測定する\n",
    "    qc.h(q0)\n",
    "    (c0,) = cr\n",
    "    qc.measure(q0, c0)\n",
    "\n",
    "    return qc\n",
    "\n",
    "\n",
    "qr = QuantumRegister(2, \"q\")\n",
    "cr = ClassicalRegister(1, \"c\")\n",
    "qc = QuantumCircuit(qr, cr)\n",
    "qc = u_circuit(qr, cr)\n",
    "qc.draw(\"mpl\")"
   ]
  },
  {
   "cell_type": "code",
   "execution_count": 9,
   "metadata": {
    "editable": true,
    "slideshow": {
     "slide_type": ""
    },
    "tags": []
   },
   "outputs": [
    {
     "name": "stdout",
     "output_type": "stream",
     "text": [
      "{'0': 4, '1': 11}\n"
     ]
    }
   ],
   "source": [
    "job = sim.run(qc, shots=15)\n",
    "result = job.result()\n",
    "counts = result.get_counts()\n",
    "print(counts)"
   ]
  },
  {
   "attachments": {},
   "cell_type": "markdown",
   "metadata": {
    "editable": true,
    "slideshow": {
     "slide_type": ""
    },
    "tags": []
   },
   "source": [
    "正しいビットが測定されることが多くなってくれたことを期待します。"
   ]
  },
  {
   "cell_type": "markdown",
   "metadata": {
    "editable": true,
    "slideshow": {
     "slide_type": ""
    },
    "tags": []
   },
   "source": [
    "````{admonition} Exercise 4: 最下位ビットの値の決定\n",
    "最後のコードセルの出力の counts ディクショナリーを調べます。最初のビットの正しい値は何ですか？測定される頻度は高くなりましたか？もしそうでないなら、そうなるまで最後のコードセルを再実行してください。\n",
    "\n",
    "そして、以下のコードセルに、変数 `step1_bit` を、最も多く測定されたビットの値に等しくするコードを書いてください。\n",
    "\n",
    "```python\n",
    "step1_bit: int\n",
    "\n",
    "####### your code goes here #######\n",
    "\n",
    "print(step1_bit)\n",
    "```\n",
    "````"
   ]
  },
  {
   "cell_type": "code",
   "execution_count": 10,
   "metadata": {
    "editable": true,
    "slideshow": {
     "slide_type": ""
    },
    "tags": [
     "hide-cell"
    ]
   },
   "outputs": [
    {
     "name": "stdout",
     "output_type": "stream",
     "text": [
      "1\n"
     ]
    }
   ],
   "source": [
    "step1_bit: int\n",
    "\n",
    "step1_bit = 1 if counts[\"1\"] > counts[\"0\"] else 0\n",
    "\n",
    "print(step1_bit)"
   ]
  },
  {
   "attachments": {},
   "cell_type": "markdown",
   "metadata": {
    "editable": true,
    "slideshow": {
     "slide_type": ""
    },
    "tags": []
   },
   "source": [
    "````{admonition} Exercise 5: 2ビット目の位相測定回路の実装\n",
    "次に、位相の2ビット目を測定するための回路を構築してください。この回路の最初のステージを、補助ビットを上記で測定した値に設定するだけのものに置き換えることで、位相の最初のビットについて常に正しい値を測定するようにします。\n",
    "\n",
    "```python\n",
    "from qiskit import ClassicalRegister, QuantumCircuit, QuantumRegister\n",
    "import numpy as np\n",
    "\n",
    "\n",
    "def u_circuit(qr: QuantumRegister, cr: ClassicalRegister) -> QuantumCircuit:\n",
    "    # qr is a quantum register with 2 qubits\n",
    "    # cr is a classical register with 2 bits\n",
    "\n",
    "    qc = QuantumCircuit(qr, cr)\n",
    "\n",
    "    ####### your code goes here #######\n",
    "\n",
    "    return qc\n",
    "\n",
    "\n",
    "qr = QuantumRegister(2, \"q\")\n",
    "cr = ClassicalRegister(2, \"c\")\n",
    "qc = QuantumCircuit(qr, cr)\n",
    "qc = u_circuit(qr, cr)\n",
    "qc.draw(\"mpl\")\n",
    "```\n",
    "````"
   ]
  },
  {
   "cell_type": "code",
   "execution_count": 11,
   "metadata": {
    "editable": true,
    "slideshow": {
     "slide_type": ""
    },
    "tags": [
     "hide-cell"
    ]
   },
   "outputs": [
    {
     "data": {
      "image/png": "[encoded data removed]",
      "text/plain": [
       "<Figure size 956.183x284.278 with 1 Axes>"
      ]
     },
     "execution_count": 11,
     "metadata": {},
     "output_type": "execute_result"
    }
   ],
   "source": [
    "from qiskit import ClassicalRegister, QuantumCircuit, QuantumRegister\n",
    "import numpy as np\n",
    "\n",
    "\n",
    "def u_circuit(qr: QuantumRegister, cr: ClassicalRegister) -> QuantumCircuit:\n",
    "    # qrは2量子ビットレジスタ\n",
    "    # crは2古典ビットレジスタ\n",
    "\n",
    "    qc = QuantumCircuit(qr, cr)\n",
    "\n",
    "    # 初期化\n",
    "    q0, q1 = qr\n",
    "    if step1_bit:\n",
    "        qc.x(q0)\n",
    "    qc.x(q1)\n",
    "\n",
    "    # 補助量子ビットを測定する\n",
    "    c0, c1 = cr\n",
    "    qc.measure(q0, c0)\n",
    "\n",
    "    # 補助量子ビットをリセットし、アダマールゲートで再初期化する\n",
    "    qc.reset(q0)\n",
    "    qc.h(q0)\n",
    "\n",
    "    # 最初の古典ビットを条件として位相補正を適用する\n",
    "    with qc.if_test((c0, 1)):\n",
    "        qc.p(-np.pi / 2, q0)\n",
    "\n",
    "    # 次の位相ビットを取得するために必要なだけ制御ユニタリ演算子を適用する\n",
    "    u_angle = 2 * np.pi / 3\n",
    "    k = 0\n",
    "    cphase_angle = u_angle * 2**k\n",
    "    qc.cp(cphase_angle, q0, q1)\n",
    "\n",
    "    # X基底で補助量子ビットを測定し、2番目の古典ビットに格納する\n",
    "    qc.h(q0)\n",
    "    qc.measure(q0, c1)\n",
    "\n",
    "    return qc\n",
    "\n",
    "\n",
    "qr = QuantumRegister(2, \"q\")\n",
    "cr = ClassicalRegister(2, \"c\")\n",
    "qc = QuantumCircuit(qr, cr)\n",
    "qc = u_circuit(qr, cr)\n",
    "qc.draw(\"mpl\")"
   ]
  },
  {
   "cell_type": "code",
   "execution_count": 12,
   "metadata": {
    "editable": true,
    "slideshow": {
     "slide_type": ""
    },
    "tags": []
   },
   "outputs": [
    {
     "name": "stdout",
     "output_type": "stream",
     "text": [
      "{'11': 64, '01': 936}\n",
      "Success probability: 0.936\n"
     ]
    }
   ],
   "source": [
    "from qiskit_aer import AerSimulator\n",
    "\n",
    "sim = AerSimulator()\n",
    "job = sim.run(qc, shots=1000)\n",
    "result = job.result()\n",
    "counts = result.get_counts()\n",
    "print(counts)\n",
    "success_probability = counts[\"01\"] / counts.shots()\n",
    "print(f\"Success probability: {success_probability}\")"
   ]
  },
  {
   "attachments": {},
   "cell_type": "markdown",
   "metadata": {
    "editable": true,
    "slideshow": {
     "slide_type": ""
    },
    "tags": []
   },
   "source": [
    "今度は、成功確率が以前よりずっと高くなりました!"
   ]
  },
  {
   "attachments": {},
   "cell_type": "markdown",
   "metadata": {},
   "source": [
    "## ハードウェアでの実行\n",
    "\n",
    "最後に、実際のハードウェアでいくつかの回路を実行します！以下のコードセルは、Lab2で作成した $S$ ゲートの位相を測定する回路を初期化して実行します。現在の量子ハードウェアはノイズがあるため、シミュレーターで得られた結果ほど良いものではありません。このLabで作成したその他の回路も自由に実行してみてください。ただし、 $T$ ゲートの位相を測定する Exercise 3 のような大規模な回路では、さらに多くのノイズが発生することに注意してください\n",
    "\n",
    "なお、以下のコードの実行にはIBM QuantumのAPIトークンが必要です。\n",
    "コメントアウトを解除し、`token`に用意したAPIトークンを格納してください。"
   ]
  },
  {
   "cell_type": "code",
   "execution_count": 18,
   "metadata": {},
   "outputs": [],
   "source": [
    "# from qiskit_ibm_provider import IBMProvider\n",
    "\n",
    "# token = \"PASTE_YOUR_TOKEN_HERE\" # ここにAPIトークンをペーストする\n",
    "# IBMProvider.save_account(token=token, overwrite=True)\n",
    "\n",
    "# provider = IBMProvider()"
   ]
  },
  {
   "cell_type": "code",
   "execution_count": 19,
   "metadata": {},
   "outputs": [],
   "source": [
    "# hub = \"YOUR_HUB\"\n",
    "# group = \"YOUR_GROUP\"\n",
    "# project = \"YOUR_PROJECT\"\n",
    "\n",
    "# backend_name = \"ibm_peekskill\"\n",
    "# backend = provider.get_backend(backend_name, instance=f\"{hub}/{group}/{project}\")"
   ]
  },
  {
   "cell_type": "code",
   "execution_count": 20,
   "metadata": {},
   "outputs": [],
   "source": [
    "# from qiskit import transpile\n",
    "\n",
    "# qr = QuantumRegister(2, \"q\")\n",
    "# cr = ClassicalRegister(2, \"c\")\n",
    "# qc = QuantumCircuit(qr, cr)\n",
    "# qc = step_2_circuit(qr, cr)\n",
    "# qc_transpiled = transpile(qc, backend)"
   ]
  },
  {
   "cell_type": "code",
   "execution_count": 21,
   "metadata": {},
   "outputs": [],
   "source": [
    "# job = backend.run(qc_transpiled, shots=1000, dynamic=True)\n",
    "# job_id = job.job_id()\n",
    "# print(job_id)"
   ]
  },
  {
   "cell_type": "code",
   "execution_count": 22,
   "metadata": {},
   "outputs": [],
   "source": [
    "# retrieve_job = provider.retrieve_job(job_id)\n",
    "# retrieve_job.status()"
   ]
  },
  {
   "cell_type": "code",
   "execution_count": 23,
   "metadata": {},
   "outputs": [],
   "source": [
    "# from qiskit.tools.visualization import plot_histogram\n",
    "\n",
    "# counts = retrieve_job.result().get_counts()\n",
    "# plot_histogram(counts)"
   ]
  },
  {
   "attachments": {},
   "cell_type": "markdown",
   "metadata": {},
   "source": [
    "このLabは、反復的位相推定に関する[QiskitテキストブックのLab](https://learn.qiskit.org/course/ch-labs/lab-6-iterative-phase-estimation-algorithm) と、[Dynamic circuit ドキュメント](https://quantum-computing.ibm.com/services/resources/docs/resources/manage/systems/dynamic-circuits/Getting-started-with-Dynamic-Circuits)の資料を参考にしました。"
   ]
  }
 ],
 "metadata": {
  "kernelspec": {
   "display_name": "iqc2024-performance",
   "language": "python",
   "name": "iqc2024-performance"
  },
  "language_info": {
   "codemirror_mode": {
    "name": "ipython",
    "version": 3
   },
   "file_extension": ".py",
   "mimetype": "text/x-python",
   "name": "python",
   "nbconvert_exporter": "python",
   "pygments_lexer": "ipython3",
   "version": "3.11.2"
  },
  "vscode": {
   "interpreter": {
    "hash": "c2040b9df22fb8e6f552d9b589c97ff536ffe03a0da1ea2949f78b5a0e303bb6"
   }
  }
 },
 "nbformat": 4,
 "nbformat_minor": 4
}

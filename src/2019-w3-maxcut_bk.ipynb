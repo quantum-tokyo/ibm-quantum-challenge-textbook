{
 "cells": [
  {
   "cell_type": "markdown",
   "metadata": {},
   "source": [
    "# 自治体のコンビニ出店プラン（2019年 Week4）\n",
    "\n",
    "````{admonition} 問題\n",
    "東京のZ市は11の区域からなる自治体で、すでに4社のコンビニ(A社,B社,C社,D社)が本社の1店舗を別々の区域に展開しています。  \n",
    "現在の出店状況は地図の通りです。地図上の各ノードはそれぞれの区域を表しており、地図上のエッジは、エッジの両端の区域が隣り合っていることを表しています。  \n",
    "市長のあなたは、残りの7区域にもコンビニを誘致しようとしましたが、４社から以下の条件が提示されました。\n",
    "* 1つの区域に出店出来るのは1社のコンビニのみ\n",
    "* 自社のコンビニは、隣接する区域に自社のコンビニが既に出店している場合は出店しない。\n",
    "\n",
    "あなたはこれらの条件を満たす出店案を提示できるでしょうか？  \n",
    "**week2,3で使ったグローバーのアルゴリズムをiteration回数=5で用いて、条件を満たす全ての出店案を列挙してみてください。**\n",
    "\n",
    "![](./resources/2019-w3_tokyo_map_pic.png)\n",
    "````"
   ]
  },
  {
   "cell_type": "markdown",
   "metadata": {},
   "source": [
    "## 実行時の注意\n",
    "- バックエンドは **32-qubitシミュレーター**を指定してください. (e.g. backend = provider.get_backend('ibmq_qasm_simulator'))\n",
    "- 回路の規模が大き過ぎる場合、実行時間が長くなる可能性があります（具体的には30分から60分等。ジャッジが作成した回答例はもっと短い時間で処理が完了します）。自分のジョブが正しく実行されているか確認したい場合は、下記のページで確認してください。  \n",
    "https://quantum-computing.ibm.com/results  \n",
    "**実行出来ているか心配だからといって何度も同じjobを投げないでください**\n",
    "- シミュレーター実行時は下記のコードを用いて実行してください。下記のコード内ではサンプル数を増やすために`shots`を8000に、シードを固定するために`seed_simulator`を12345に、シミュレーターの実行速度を向上させるために`backend_options={\"fusion_enable\":True}`を設定しています。\n",
    "- 回路のなかでリセットのオペレーション (i.e. qc.reset()) は使用しないでください。"
   ]
  },
  {
   "cell_type": "code",
   "execution_count": null,
   "metadata": {},
   "outputs": [],
   "source": [
    "provider = IBMQ.load_account()\n",
    "backend = provider.get_backend('ibmq_qasm_simulator')\n",
    "job = execute(qc, backend=backend, shots=8000, seed_simulator=12345, backend_options={\"fusion_enable\":True})\n",
    "result = job.result()\n",
    "count = result.get_counts()\n",
    "print(count)"
   ]
  },
  {
   "cell_type": "markdown",
   "metadata": {},
   "source": [
    "````{caution}\n",
    "- それぞれの会社については、A社を$00$、B社を$01$、C社を$10$、D社を$11$とマッピングするものとします。  \n",
    "- 古典レジスタc[2n], c[2n+1]にn番目の区域に出店するコンビニをマッピングしてください。\n",
    "- 答えを知らない状態でも作成できるオラクルを用いてください（言い換えると、古典の最適化ソルバ等で答えを計算して、それを基にオラクルを作成しないでください！）\n",
    "- Unroller以外のtranspilerのpassを用いないでください（言い換えると、既存の最適化用等のpassを使わず、自分の力で戦ってください）\n",
    "\n",
    "例:0番目の区域に出店するコンビニがB社の場合、古典レジスタc[0], c[1]にそれぞれ$0$と$1$をマッピングします。  \n",
    "\n",
    "上記提出時の注意を踏まえて、シミュレーターでの実行結果から、**確率が高いビット列上位9個**を基に作成したコンビニの配置案とUnrollerを用いて回路をu3とCXに分解してください。  \n",
    "\n",
    "**回答ファイルは下記のプログラムを用いて作成してください。**\n",
    "下記の`circuit`と`results`と`name`と`times`に作成した回路と実行結果と名前と提出回数を代入すれば自動で回答ファイルが作成されます。  \n",
    "回答ファイル内ではA社、B社、C社、D社は0、１、２、３にマッピングされています。\n",
    "\n",
    "**回答ファイルのサンプル**\n",
    "下記のプログラムで作成される回答ファイルはこのようなファイルになります（実際の値は下記とは異なります）。\n",
    "```\n",
    "{\"ans\": [[\"01230123012\", 30], [\"01230123012\", 30], [\"01230123012\", 30], [\"01230123012\", 30], [\"01230123012\", 30], [\"01230123012\", 30], [\"01230123012\", 30], [\"01230123012\", 30], [\"01230123012\", 30], \"costs\": {\"u3\": 20000, \"cx\": 10000, \"barrier\": 20, \"measure\": 20}}\n",
    "```\n",
    "\n",
    "````"
   ]
  },
  {
   "cell_type": "markdown",
   "metadata": {},
   "source": [
    "## 回答ファイル作成"
   ]
  },
  {
   "cell_type": "markdown",
   "metadata": {},
   "source": [
    "**回路が大きい場合、Unrollerの処理に時間がかかる可能性があります。**  \n",
    "もし、処理が終わらない場合、使用していないウィンドウを閉じたりJupyter NotebookのKernelを再起動する等し、Unrollerの処理を再実行してください。"
   ]
  },
  {
   "cell_type": "code",
   "execution_count": null,
   "metadata": {},
   "outputs": [],
   "source": [
    "# Input your quantum circuit\n",
    "circuit='Input your circuit'\n",
    "# Input your result of the execute(groverCircuit, backend=backend, shots=shots).result()\n",
    "results = 'Input your result'\n",
    "count=results.get_counts()\n",
    "# Input your name or your team name ('Team details form'に記入した通りにチーム名を入力してください)\n",
    "name='Input your team name as exactly as you inputted it in the team details form'\n",
    "# Please indicate the number of times you have submitted your answer so far.\n",
    "# For example, If it's your 1st time to submit your answer, write times='1'. If it's your 5th time to submit your answer, write times='5'.\n",
    "# Do not forget to put single quotations to make the variable 'Str'' type\n",
    "times='Input the number of times you have submitted your answer so far'"
   ]
  },
  {
   "cell_type": "code",
   "execution_count": null,
   "metadata": {},
   "outputs": [],
   "source": [
    "import json\n",
    "from qiskit.transpiler import PassManager\n",
    "from qiskit.transpiler.passes import Unroller\n",
    "\n",
    "# Unroll the circuit\n",
    "pass_ = Unroller(['u3', 'cx'])\n",
    "pm = PassManager(pass_)\n",
    "new_circuit = pm.run(circuit) \n",
    "\n",
    "# obtain gates\n",
    "gates=new_circuit.count_ops()\n",
    "\n",
    "#sort count\n",
    "count_sorted = sorted(count.items(), key=lambda x:x[1], reverse=True)\n",
    "\n",
    "# collect answers with Top 9 probability\n",
    "ans_list = count_sorted[0:9]\n",
    "\n",
    "# reverse ans_list\n",
    "ans_reversed = []\n",
    "for i in ans_list:\n",
    "    ans_temp=[i[0][::-1],i[1]]\n",
    "    ans_reversed.append(ans_temp)\n",
    "\n",
    "# convert each 2 bits into corresponding color. Add node0(0),node3(1),node8(2) and node11(3)\n",
    "ans_shaped = []\n",
    "for j in ans_reversed:\n",
    "    ans_temp=j[0]\n",
    "    nodeA = 0\n",
    "    node0 = int(ans_temp[0] + ans_temp[1], 2)\n",
    "    node1 = int(ans_temp[2] + ans_temp[3], 2)\n",
    "    nodeB = 1\n",
    "    node2 = int(ans_temp[4] + ans_temp[5], 2)\n",
    "    node3 = int(ans_temp[6] + ans_temp[7], 2)\n",
    "    node4 = int(ans_temp[8] + ans_temp[9], 2)\n",
    "    nodeC = 2\n",
    "    node5 = int(ans_temp[10] + ans_temp[11], 2)\n",
    "    node6 = int(ans_temp[12] + ans_temp[13], 2)\n",
    "    nodeD = 3\n",
    "    nodes_color = str(nodeA) + str(node0) + str(node1) + str(nodeB) + str(node2) + str(node3) + str(node4) + str(nodeC) + str(node5) + str(node6) + str(nodeD) \n",
    "    ans_shaped.append([nodes_color,j[1]])\n",
    "\n",
    "# write the result into '[your name]_final_output.txt'\n",
    "filename=name+'_'+times+'_final_output.txt'\n",
    "dct={'ans':ans_shaped,'costs':gates}\n",
    "with open(filename, 'w') as f:\n",
    "    json.dump(dct, f)"
   ]
  },
  {
   "cell_type": "markdown",
   "metadata": {},
   "source": [
    "## 回答ファイル検証"
   ]
  },
  {
   "cell_type": "code",
   "execution_count": 38,
   "metadata": {},
   "outputs": [],
   "source": [
    "# Input a path of your submitted file\n",
    "your_path='Input a path of your submitted file'"
   ]
  },
  {
   "cell_type": "code",
   "execution_count": null,
   "metadata": {},
   "outputs": [],
   "source": [
    "import json\n",
    "from pathlib import Path\n",
    "\n",
    "p= Path(your_path)\n",
    "\n",
    "# Verify your information\n",
    "f_name=p.name\n",
    "your_info=f_name.split('_')\n",
    "print('Your name: ', your_info[0])\n",
    "print('The number of times you have submitted your answer: ', your_info[1])\n",
    "\n",
    "with open(p, 'r') as f:\n",
    "    print(f)\n",
    "    your_ans=json.load(f)\n",
    "\n",
    "print('Does your submission file have 9 answers?')\n",
    "if (len(your_ans['ans'])!=9):\n",
    "    print('- No, make sure you have 9 answers with top 9 probabilities')\n",
    "else:\n",
    "    print('- Yes')\n",
    "    print('- Your plan: ', your_ans['ans'])\n",
    "\n",
    "print('What is your cost?')\n",
    "your_cost=your_ans['costs']['u3'] + 10*your_ans['costs']['cx']\n",
    "print('- ', your_cost)"
   ]
  }
 ],
 "metadata": {
  "kernelspec": {
   "display_name": "Python 3 (ipykernel)",
   "language": "python",
   "name": "python3"
  },
  "language_info": {
   "codemirror_mode": {
    "name": "ipython",
    "version": 3
   },
   "file_extension": ".py",
   "mimetype": "text/x-python",
   "name": "python",
   "nbconvert_exporter": "python",
   "pygments_lexer": "ipython3",
   "version": "3.10.12"
  }
 },
 "nbformat": 4,
 "nbformat_minor": 4
}

{
 "cells": [
  {
   "cell_type": "markdown",
   "metadata": {},
   "source": [
    "# ライツアウトパズル（2020年 Week2a）\n",
    "ライツアウトは有名なパズルゲームです。プレーヤーに格子状に並べられたライトが与えられます。このうちいくつかは点灯しており、いくつかは消灯しています。この問題の目的は、ライトを全て消灯させることです。各ライトにはスイッチがついており、それを押すことで点灯/消灯させることができます。しかしながらこのライトは少し特殊で、あるライトのスイッチを押すと、連動して上下左右の隣接したライトの状態も切り替わってしまいます。\n",
    "\n",
    "## 例題\n",
    "以下の図は、3x3のライツアウトパズルの例です。各ライトには0から8までのラベルが付いています。バイナリのリストを使用して与えられた盤面を表すことができます。`1`はオンになっているライトを表し、`0`はオフになっているライトを表します。以下のリスト(`lights`)は、この例の初期盤面を表しています（ライト 3、5、6、7がオンで、残りはオフです）。\n",
    "\n",
    "```python\n",
    "lights = [0, 0, 0, 1, 0, 1, 1, 1, 0]\n",
    "```\n",
    "\n",
    "例題は、図で示されているように、0、3、4のスイッチを操作することで解決できます。少し遊んでみると、すぐにこのパズルゲームの**2つの重要な特性**に気付くでしょう。\n",
    "1. 同じスイッチを複数回押す必要はありません。\n",
    "2. スイッチを押す順序は特に意味を持ちません。\n",
    "\n",
    "従って、初期の盤面同様にバイナリのリストでパズルの解を表現できます。 ただし、ここでは`0`と`1`の意味が盤面のそれと異なります。`1`はスイッチを切り替えることを表し、`0`はスイッチを切り替えないことを表します。\n",
    "\n",
    "```python\n",
    "solution = [1, 0, 0, 1, 1, 0, 0, 0, 0]\n",
    "```"
   ]
  },
  {
   "cell_type": "markdown",
   "metadata": {},
   "source": [
    "![](./resources/2020-w2-a_lights_out_rule.png)"
   ]
  },
  {
   "cell_type": "markdown",
   "metadata": {},
   "source": [
    "# ラーニング演習 II-A\n",
    "第1週で学んだことをいかして、ライツアウトを**Groverのアルゴリズム**を使って解いてみましょう！\n",
    "\n",
    "````{admonition} Groverのアルゴリズムを使ったライツアウトパズル\n",
    "以下の盤面を解くための量子回路を作成してください。提出する量子回路では、パズルの答えとなる**`solution`(9bit)のみを観測してください。**\n",
    "提出形式は、lightsを引数とし、`QuantumCircuit`を返す関数です（関数名は任意のものを付けて問題ありません）。異なる入力(lights)でも問題が解ける関数にしてください。異なる入力で検証を行います。\n",
    "\n",
    "**なお、量子回路は 28 qubits 以内で実装してください。**\n",
    "\n",
    "説明で用いられているものと同じエンディアンで解答が得られるようになっているか注意してください。以下の関数を使っても構いません。\n",
    "\n",
    "```python\n",
    "qc = qc.reverse_bits()\n",
    "```\n",
    "\n",
    "```{hint}\n",
    "この問題を解くにはWeek1-Bのものよりも複雑なオラクルが必要になるでしょう。補助量子ビットを追加することでオラクル部分の設計が容易になりますが、その取り扱いには注意が必要です。オラクル部分の終了時点では全ての補助量子ビットが初期状態に戻っているいる必要があります（この操作はUncomputationと呼ばれることもあります）。  \n",
    "2019年の[IBM Quantum Challenge のWeek3](https://github.com/quantum-challenge/2019)はこの概念の理解に役立つかもしれません。\n",
    "```\n",
    "````"
   ]
  },
  {
   "cell_type": "markdown",
   "metadata": {},
   "source": [
    "![](./resources/2020-w2-a_lights_out_prob.png)"
   ]
  },
  {
   "cell_type": "code",
   "execution_count": 3,
   "metadata": {},
   "outputs": [],
   "source": [
    "# 初期状態は以下のリストで与えられます。 \n",
    "# 回路の入力としてお使いください。\n",
    "lights = [0, 1, 1, 1, 0, 0, 1, 1, 1]\n",
    "\n",
    "def week2a_ans_func(lights):\n",
    "    ##### ここに量子回路を作成してください。\n",
    "    ####  尚、異なる入力(lights)でも問題が解ける関数にしてください。異なる入力で検証を行います。\n",
    "    \n",
    "    return qc"
   ]
  },
  {
   "cell_type": "code",
   "execution_count": null,
   "metadata": {},
   "outputs": [],
   "source": [
    "# 提出用コード\n",
    "from qc_grader import prepare_ex2a, grade_ex2a, submit_ex2a\n",
    "\n",
    "# 以下のprepare_ex2a()関数で回路を実行してください。\n",
    "# prepare_ex2a()関数はQuantumCircuitのみを引数として、execute()関数のように働きます。\n",
    "job = prepare_ex2a(week2a_ans_func)\n",
    "\n",
    "result = job.result()\n",
    "count = result.get_counts()\n",
    "original_problem_set_counts = count[0]\n",
    "\n",
    "original_problem_set_counts\n",
    "# 最も観測回数が多いビット列が解として扱われます。"
   ]
  }
 ],
 "metadata": {
  "kernelspec": {
   "display_name": "Python 3 (ipykernel)",
   "language": "python",
   "name": "python3"
  },
  "language_info": {
   "codemirror_mode": {
    "name": "ipython",
    "version": 3
   },
   "file_extension": ".py",
   "mimetype": "text/x-python",
   "name": "python",
   "nbconvert_exporter": "python",
   "pygments_lexer": "ipython3",
   "version": "3.10.12"
  }
 },
 "nbformat": 4,
 "nbformat_minor": 4
}

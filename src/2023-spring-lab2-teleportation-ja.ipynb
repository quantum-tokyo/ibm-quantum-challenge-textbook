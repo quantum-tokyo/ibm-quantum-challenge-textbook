{
 "cells": [
  {
   "cell_type": "markdown",
   "id": "67bada04",
   "metadata": {
    "editable": true,
    "slideshow": {
     "slide_type": ""
    },
    "tags": []
   },
   "source": [
    "# 量子テレポーテーション（2023年 Lab2）\n",
    "\n",
    "アリスとボブが抱えている問題を解決する量子テレポーテーションのLabへようこそ。ご安心ください、人間関係の問題ではありませんよ！アリスは未知の状態 $\\lvert \\psi \\rangle$ の量子ビットを所持しており、この量子状態をボブに転送したいと考えています。しかしながら彼らは非常に離れた場所におり、量子情報を直接転送する手段はなく、転送できるのは古典情報のみです。彼らの目標を達成することは可能でしょうか？\n",
    "\n",
    "アリスとボブがエンタングルした量子ビットのペアを共有している場合、彼女が２ビットの古典情報を送信することで、量子ビットの状態をボブに転送できることがわかっています。最終的に、ボブが $\\lvert \\psi \\rangle$ を所有し、アリスはそれを持たなくなるため、このプロセスはテレポーテーションとして知られています。"
   ]
  },
  {
   "cell_type": "markdown",
   "id": "81b23162",
   "metadata": {
    "editable": true,
    "slideshow": {
     "slide_type": ""
    },
    "tags": []
   },
   "source": [
    "## 背景\n",
    "\n",
    "量子テレポーテーションは、エンタングルメントと古典通信を使用し、ある量子ビットから別の量子ビットへと量子情報の転送を可能にするプロトコルです。このプロトコルは、1993年に Charles Bennett、Gilles Brassard、Claude Crépeau、Richard Jozsa、Asher Peres および William Wootters によって提案されました。このプロセスは、量子ビット自体を送信するのではなく、ソース量子ビットからターゲット量子ビットに量子状態を転送します。\n",
    "\n",
    "プロトコルには３つの量子ビットが必要です。\n",
    "\n",
    "1. テレポートする量子ビット（アリスの量子ビット）\n",
    "2. エンタングルした量子ビットのペアの片方（アリスの２番目の量子ビット）\n",
    "3. エンタングルしたペアのもう片方（ボブの量子ビット）\n",
    "\n",
    "プロトコルは、次の手順に要約できます。\n",
    "\n",
    "1. アリスとボブの間で共有される、エンタングルした量子ビットのペア（Bellペア）を生成します。\n",
    "2. アリスは、自身が持つ２つの量子ビットに対しBell基底測定を実行します。\n",
    "3. アリスは、古典測定の結果をボブに送信します。\n",
    "4. ボブは、アリスの測定結果に基づいて適切な量子ゲートを適用し、テレポート状態を取得します。"
   ]
  },
  {
   "cell_type": "markdown",
   "id": "92ef167c",
   "metadata": {},
   "source": [
    "## 実装\n",
    "\n",
    "量子ビットを転送するためには、アリスとボブにエンタングルした量子ビットのペアを提供してくれる第三者の助けが必要です。次に、アリスは量子ビットに対して特定の操作を実行し、その結果を古典通信チャネルを介してボブと共有します。最後に、ボブは自分の側で一連の操作を実行し、アリスの量子ビットを正常に取得します。それでは、これらの各ステップについて詳しく見ていきましょう。"
   ]
  },
  {
   "cell_type": "markdown",
   "id": "f4053248",
   "metadata": {},
   "source": [
    "量子回路は、３つの量子ビットと３つの古典ビットで構成されます。量子ビットは次のように命名されます。\n",
    "\n",
    "- $s$: アリスがボブに送信したい、状態 $\\lvert \\psi \\rangle$ を含む「ソース」量子ビット。\n",
    "- $a$: エンタングルしたBellペアのうち、アリスが持つ片方を最初に格納する量子ビット。\n",
    "- $b$: エンタングルしたBellペアのうち、ボブが持つもう片方を最初に格納する量子ビット。\n",
    "\n",
    "\n",
    "テレポーテーションプロトコル自体には２つの古典ビットが必要であり、ボブの最終状態を測定するために使用する３つ目の古典ビットも含まれます。古典ビットは次のように命名されます。\n",
    "\n",
    "- $c0$: アリスが $a$ の測定に使用する古典ビット。\n",
    "- $c1$: アリスが $s$ の測定に使用する古典ビット。\n",
    "- $c2$: ボブが $b$ の測定に使用する古典ビット。"
   ]
  },
  {
   "cell_type": "markdown",
   "id": "9b3bc638-f0bb-4ac3-8e24-9927d1ff0bf0",
   "metadata": {
    "editable": true,
    "slideshow": {
     "slide_type": ""
    },
    "tags": []
   },
   "source": [
    "````{admonition} Exercise 1: Bell状態の生成\n",
    "２つの量子ビットを利用して、エンタングルしたBellペアの状態 $\\frac{\\lvert 00 \\rangle + \\lvert 11 \\rangle}{\\sqrt{2}}$ を生成してください。量子ビット $a$ はアリスに割り当てられ、量子ビット $b$ はボブのものです。\n",
    "\n",
    "ヒント：Bell状態はアダマールゲートとCNOTゲートを使うことで生成できます。\n",
    "\n",
    "```python\n",
    "from qiskit import QuantumCircuit, QuantumRegister, ClassicalRegister\n",
    "from qiskit.circuit import Qubit, Clbit\n",
    "\n",
    "def create_bell_pair(qr: QuantumRegister, cr: ClassicalRegister) -> QuantumCircuit:\n",
    "    \"\"\"Creates a bell pair between qubits a and b.\"\"\"\n",
    "    qc = QuantumCircuit(qr, cr)\n",
    "    # unpack qubits\n",
    "    # the first qubit is s but we won't be using it in this exercise\n",
    "    _, a, b = qr\n",
    "\n",
    "    ####### your code goes here #######\n",
    "\n",
    "    return qc\n",
    "```\n",
    "````"
   ]
  },
  {
   "cell_type": "code",
   "execution_count": 1,
   "id": "6ac511c3-2644-43e0-9258-01175ed010f2",
   "metadata": {
    "editable": true,
    "slideshow": {
     "slide_type": ""
    },
    "tags": [
     "hide-cell"
    ]
   },
   "outputs": [],
   "source": [
    "from qiskit import QuantumCircuit, QuantumRegister, ClassicalRegister\n",
    "from qiskit.circuit import Qubit, Clbit\n",
    "\n",
    "def create_bell_pair(qr: QuantumRegister, cr: ClassicalRegister) -> QuantumCircuit:\n",
    "    \"\"\"Creates a bell pair between qubits a and b.\"\"\"\n",
    "    qc = QuantumCircuit(qr, cr)\n",
    "    # unpack qubits\n",
    "    # the first qubit is s but we won't be using it in this exercise\n",
    "    _, a, b = qr\n",
    "\n",
    "    ####### your code goes here #######\n",
    "    qc.h(a)\n",
    "    qc.cx(a, b)\n",
    "\n",
    "    return qc"
   ]
  },
  {
   "cell_type": "code",
   "execution_count": 2,
   "id": "00909ef2",
   "metadata": {
    "editable": true,
    "slideshow": {
     "slide_type": ""
    },
    "tags": []
   },
   "outputs": [
    {
     "data": {
      "image/png": "[encoded data removed]",
      "text/plain": [
       "<Figure size 287.496x367.889 with 1 Axes>"
      ]
     },
     "execution_count": 2,
     "metadata": {},
     "output_type": "execute_result"
    }
   ],
   "source": [
    "qr = QuantumRegister(3, name=\"q\")\n",
    "cr = ClassicalRegister(3, name=\"c\")\n",
    "qc = create_bell_pair(qr, cr)\n",
    "\n",
    "qc.draw(\"mpl\")"
   ]
  },
  {
   "cell_type": "markdown",
   "id": "dd70acba",
   "metadata": {
    "editable": true,
    "slideshow": {
     "slide_type": ""
    },
    "tags": []
   },
   "source": [
    "  ```{toggle} 解説\n",
    "  ヒントにあるように、Bell状態はアダマールゲートとCNOTゲートを使うことで生成できます。  \n",
    "  CNOTゲートは2量子ビットゲートで、入力に制御量子ビットとターゲット量子ビットを指定する必要があります。  \n",
    "  ここではアリスのもつ量子ビットを制御量子ビットに、ボブのもつ量子ビットをターゲット量子ビットに設定します。  \n",
    "\n",
    "  ここで、メッセージ量子ビット$s$の状態を$\\ket{\\psi}$とおくと、3量子ビットの量子状態は以下のように表すことが出来ます。\n",
    "  \\begin{align}\n",
    "      \\ket{\\psi}\\ket{B_{00}} &= (\\alpha\\ket{0}+\\beta\\ket{1})(\\frac{1}{\\sqrt{2}}(\\ket{00}+\\ket{11})) \\\\\n",
    "       &= \\frac{1}{\\sqrt{2}}(\\alpha\\ket{000}+\\alpha\\ket{011}+\\beta\\ket{100}+\\beta\\ket{111})\n",
    "  \\end{align}\n",
    "  ```"
   ]
  },
  {
   "cell_type": "markdown",
   "id": "73c801b6",
   "metadata": {
    "editable": true,
    "slideshow": {
     "slide_type": ""
    },
    "tags": []
   },
   "source": [
    "アリスが量子ビット $a$ を持ち、ボブが量子ビット $b$ を持っていると仮定しましょう。彼らは本当に関係性に問題を抱えているかもしれませんね😉。"
   ]
  },
  {
   "cell_type": "markdown",
   "id": "877d35e8-9372-4789-bd17-1cd25ba7329b",
   "metadata": {
    "editable": true,
    "slideshow": {
     "slide_type": ""
    },
    "tags": []
   },
   "source": [
    "````{admonition} Exercise 2: メッセージ送信回路の構築\n",
    "次のプロトコルを実装してください。\n",
    "1. アリスが、 $s$ ($\\lvert \\psi \\rangle$ を含む量子ビット)を制御、 $a$ をターゲットとしてCNOTゲートを適用する。\n",
    "2. アリスが $s$ にアダマールゲートを適用する。\n",
    "\n",
    "```python\n",
    "def alice_gates(qr: QuantumRegister, cr: ClassicalRegister):\n",
    "    \"\"\"Creates Alices's gates\"\"\"\n",
    "    qc = create_bell_pair(qr, cr)\n",
    "    qc.barrier()  # Use barrier to separate steps\n",
    "    s, a, b = qr\n",
    "\n",
    "    ####### your code goes here #######\n",
    "    \n",
    "    return qc\n",
    "```\n",
    "````"
   ]
  },
  {
   "cell_type": "code",
   "execution_count": 3,
   "id": "53ec62fe-0ea6-497f-a9a9-32488286f9fe",
   "metadata": {
    "editable": true,
    "slideshow": {
     "slide_type": ""
    },
    "tags": [
     "hide-cell"
    ]
   },
   "outputs": [],
   "source": [
    "def alice_gates(qr: QuantumRegister, cr: ClassicalRegister):\n",
    "    \"\"\"Creates Alices's gates\"\"\"\n",
    "    qc = create_bell_pair(qr, cr)\n",
    "    qc.barrier()  # Use barrier to separate steps\n",
    "    s, a, b = qr\n",
    "\n",
    "    qc.cx(s, a)\n",
    "    qc.h(s)\n",
    "    \n",
    "    return qc"
   ]
  },
  {
   "cell_type": "code",
   "execution_count": 4,
   "id": "1878909c",
   "metadata": {
    "editable": true,
    "slideshow": {
     "slide_type": ""
    },
    "tags": []
   },
   "outputs": [
    {
     "data": {
      "image/png": "[encoded data removed]",
      "text/plain": [
       "<Figure size 538.33x367.889 with 1 Axes>"
      ]
     },
     "execution_count": 4,
     "metadata": {},
     "output_type": "execute_result"
    }
   ],
   "source": [
    "qc = alice_gates(qr, cr)\n",
    "qc.draw(\"mpl\")"
   ]
  },
  {
   "cell_type": "markdown",
   "id": "a5b9a30f",
   "metadata": {
    "editable": true,
    "slideshow": {
     "slide_type": ""
    },
    "tags": []
   },
   "source": [
    "  ```{toggle} 解説\n",
    "  問題文の手順通りに量子ゲートを配置します。\n",
    "  \n",
    "  構築した回路を通した量子状態は以下のように表されます。\n",
    "　$$\n",
    "      \\frac{1}{\\sqrt{2}}(\\alpha\\ket{000}+\\alpha\\ket{100}+\\alpha\\ket{011}+\\alpha\\ket{111}+\\beta\\ket{010}-\\beta\\ket{110}+\\beta\\ket{001}-\\beta\\ket{101})\n",
    "  $$\n",
    "  ```"
   ]
  },
  {
   "cell_type": "markdown",
   "id": "ef240c21-16b1-45cc-9880-e14079fedc9d",
   "metadata": {
    "editable": true,
    "slideshow": {
     "slide_type": ""
    },
    "tags": []
   },
   "source": [
    "````{admonition} Exercise 3: 量子状態の測定\n",
    "このステップでは、アリスは所有している両方の量子ビットで測定を実行し、結果を２つの古典ビットに保存します。その後、彼女はこれら２つのビットをボブに送信します。\n",
    "\n",
    "彼女は量子ビット $a$ を古典ビット $c0$ に、量子ビット $s$ を古典ビット $c1$ に測定して入れるように以下のコードセルを完成させてください。\n",
    "\n",
    "```python\n",
    "def measure_and_send(qr: QuantumRegister, cr: ClassicalRegister):\n",
    "    \"\"\"Measures qubits a & b and 'sends' the results to Bob\"\"\"\n",
    "    qc = alice_gates(qr, cr)\n",
    "    qc.barrier()  # Use barrier to separate steps\n",
    "    s, a, b = qr\n",
    "    c0, c1, c2 = cr\n",
    "\n",
    "    ####### your code goes here #######\n",
    "    \n",
    "    return qc\n",
    "```\n",
    "````"
   ]
  },
  {
   "cell_type": "code",
   "execution_count": 5,
   "id": "b3d0d578-f5eb-4b41-a5cc-ed2496ad3375",
   "metadata": {
    "editable": true,
    "slideshow": {
     "slide_type": ""
    },
    "tags": [
     "hide-cell"
    ]
   },
   "outputs": [],
   "source": [
    "def measure_and_send(qr: QuantumRegister, cr: ClassicalRegister):\n",
    "    \"\"\"Measures qubits a & b and 'sends' the results to Bob\"\"\"\n",
    "    qc = alice_gates(qr, cr)\n",
    "    qc.barrier()  # Use barrier to separate steps\n",
    "    s, a, b = qr\n",
    "    c0, c1, c2 = cr\n",
    "\n",
    "    qc.measure(a, c0)\n",
    "    qc.measure(s, c1)\n",
    "    \n",
    "    return qc"
   ]
  },
  {
   "cell_type": "code",
   "execution_count": 6,
   "id": "6ab24bfa",
   "metadata": {
    "editable": true,
    "slideshow": {
     "slide_type": ""
    },
    "tags": []
   },
   "outputs": [
    {
     "data": {
      "image/png": "[encoded data removed]",
      "text/plain": [
       "<Figure size 789.163x535.111 with 1 Axes>"
      ]
     },
     "execution_count": 6,
     "metadata": {},
     "output_type": "execute_result"
    }
   ],
   "source": [
    "qc = measure_and_send(qr, cr)\n",
    "qc.draw(\"mpl\", cregbundle=False)"
   ]
  },
  {
   "cell_type": "markdown",
   "id": "fb2880b8",
   "metadata": {
    "editable": true,
    "slideshow": {
     "slide_type": ""
    },
    "tags": []
   },
   "source": [
    "  ```{toggle} 解説\n",
    "  測定を実行するためには`.measure()`メソッドを用います。  \n",
    "  入力には測定対象である量子ビットと、測定結果を格納する古典ビットが必要となります。\n",
    "\n",
    "  量子ビット$a$と$b$はエンタングルしているので量子ビット$a$の測定結果は$b$の状態に影響を与えます。\n",
    "\n",
    "  - 測定結果が`00`：量子ビット$b$の状態は$\\alpha\\ket{0}+\\beta\\ket{1}$ ・・・送信したかった正しい状態\n",
    "  - 測定結果が`01`：量子ビット$b$の状態は$\\alpha\\ket{1}+\\beta\\ket{0}$ ・・・Xゲートを適用すると正しい状態に戻すことが出来る\n",
    "  - 測定結果が`10`：量子ビット$b$の状態は$\\alpha\\ket{0}-\\beta\\ket{1}$ ・・・Zゲートを適用すると正しい状態に戻すことが出来る\n",
    "  - 測定結果が`11`：量子ビット$b$の状態は$\\alpha\\ket{1}-\\beta\\ket{0}$ ・・・ZXゲートを適用すると正しい状態に戻すことが出来る\n",
    "  ```"
   ]
  },
  {
   "cell_type": "markdown",
   "id": "d7e94af3-953f-49ad-95c4-9b1a0a19e07d",
   "metadata": {
    "editable": true,
    "slideshow": {
     "slide_type": ""
    },
    "tags": []
   },
   "source": [
    "````{admonition} Exercise 4: 動的回路の生成\n",
    "このステップでは、すでに量子ビット $b$ を所有しているボブが、アリスから受け取った古典ビットの状態に基づいて、回路に特定のゲートを動的に追加します。\n",
    "\n",
    "- ビットが `00` の場合、アクションは必要ありません。\n",
    "- ビットが `01` の場合、 $X$ ゲート（Pauli-X または ビット・フリップ・ゲートとも呼ばれます）を適用する必要があります。\n",
    "- ビット `10` には、 $Z$ ゲート（Pauli-Z または フェーズ・フリップ・ゲートとも呼ばれます）を適用する必要があります。\n",
    "- 最後に、古典ビットが `11` の場合は、 $ZX$ ゲートを適用する必要があります。これには、 $Z$ゲートと $X$ ゲートの両方を順番に適用する必要があります。\n",
    "\n",
    "```python\n",
    "def bob_gates(qr: QuantumRegister, cr: ClassicalRegister):\n",
    "    \"\"\"Uses qc.if_test to control which gates are dynamically added\"\"\"\n",
    "    qc = measure_and_send(qr, cr)\n",
    "    qc.barrier()  # Use barrier to separate steps\n",
    "    s, a, b = qr\n",
    "    c0, c1, c2 = cr\n",
    "\n",
    "    ####### your code goes here #######\n",
    "    \n",
    "    return qc\n",
    "```\n",
    "````"
   ]
  },
  {
   "cell_type": "code",
   "execution_count": 7,
   "id": "1c2fd8b7-961b-4860-94a5-0662d9a9f5ef",
   "metadata": {
    "editable": true,
    "slideshow": {
     "slide_type": ""
    },
    "tags": [
     "hide-cell"
    ]
   },
   "outputs": [],
   "source": [
    "def bob_gates(qr: QuantumRegister, cr: ClassicalRegister):\n",
    "    \"\"\"Uses qc.if_test to control which gates are dynamically added\"\"\"\n",
    "    qc = measure_and_send(qr, cr)\n",
    "    qc.barrier()  # Use barrier to separate steps\n",
    "    s, a, b = qr\n",
    "    c0, c1, c2 = cr\n",
    "\n",
    "    with qc.if_test((c0, 1)):\n",
    "      qc.x(b)\n",
    "    with qc.if_test((c1, 1)):\n",
    "      qc.z(b)\n",
    "    \n",
    "    return qc"
   ]
  },
  {
   "cell_type": "code",
   "execution_count": 8,
   "id": "93d01a1b",
   "metadata": {
    "editable": true,
    "slideshow": {
     "slide_type": ""
    },
    "tags": []
   },
   "outputs": [
    {
     "data": {
      "image/png": "[encoded data removed]",
      "text/plain": [
       "<Figure size 1207.22x535.111 with 1 Axes>"
      ]
     },
     "execution_count": 8,
     "metadata": {},
     "output_type": "execute_result"
    }
   ],
   "source": [
    "qc = bob_gates(qr, cr)\n",
    "qc.draw(\"mpl\", cregbundle=False)"
   ]
  },
  {
   "cell_type": "markdown",
   "id": "fb69e0d7",
   "metadata": {
    "editable": true,
    "slideshow": {
     "slide_type": ""
    },
    "tags": []
   },
   "source": [
    "  ```{admonition} 解説\n",
    "  :class: tip\n",
    "  古典ビットの状態に対して必要な操作をまとめると、「$c_0$が状態1であるときはXゲートを適用し、$c_1$が状態1であるときはZゲートを適用する」となります。  \n",
    "  場合分けが発生するような動的回路は\".if_test\"メソッドを用いて実装することが可能です。\n",
    "  ```"
   ]
  },
  {
   "cell_type": "markdown",
   "id": "edc2833b",
   "metadata": {},
   "source": [
    "ここで、ボブは自分の量子ビットを測定して、古典ビット $c2$ に入れます。実験全体を複数回繰り返した後、測定結果に関する統計を収集して、テレポーテーションが正しく機能したことを確認できます。"
   ]
  },
  {
   "cell_type": "code",
   "execution_count": 9,
   "id": "1feb1d7c",
   "metadata": {
    "editable": true,
    "slideshow": {
     "slide_type": ""
    },
    "tags": []
   },
   "outputs": [
    {
     "data": {
      "image/png": "[encoded data removed]",
      "text/plain": [
       "<Figure size 1290.83x367.889 with 1 Axes>"
      ]
     },
     "execution_count": 9,
     "metadata": {},
     "output_type": "execute_result"
    }
   ],
   "source": [
    "teleportation_circuit = bob_gates(qr, cr)\n",
    "s, a, b = qr\n",
    "c0, c1, c2 = cr\n",
    "teleportation_circuit.measure(b, c2)\n",
    "teleportation_circuit.draw(\"mpl\")"
   ]
  },
  {
   "cell_type": "markdown",
   "id": "441681cf",
   "metadata": {
    "editable": true,
    "slideshow": {
     "slide_type": ""
    },
    "tags": []
   },
   "source": [
    "テレポーテーション回路ができたので、~~カーク船長を見知らぬ惑星の地表に転送して~~ 量子状態の生成とテレポートを、シミュレーター上の回路で実行しましょう。"
   ]
  },
  {
   "cell_type": "markdown",
   "id": "22689acc-0aaa-4a29-86d0-a8e8a6bbde46",
   "metadata": {
    "editable": true,
    "slideshow": {
     "slide_type": ""
    },
    "tags": []
   },
   "source": [
    "````{admonition} Exercise 5: 回路の結合\n",
    "\n",
    "次のコードセルでは、完全な量子テレポーテーション回路を `teleport_superposition_circuit` 変数に構築します。次のステップに従ってください。\n",
    "\n",
    "- 状態を準備する回路を構築します。角度 $\\pi / 4$ の $R_x$ 回転ゲートを適用して量子ビット $s$ を準備してください。\n",
    "- 状態準備回路と先ほど構築したテレポーテーション回路を結合してください。\n",
    "\n",
    "```python\n",
    "import math\n",
    "\n",
    "teleport_superposition_circuit: QuantumCircuit\n",
    "\n",
    "####### your code goes here #######\n",
    "\n",
    "####### Uncomment this line to draw your circuit\n",
    "teleport_superposition_circuit.draw(\"mpl\", cregbundle=False)\n",
    "```\n",
    "````"
   ]
  },
  {
   "cell_type": "code",
   "execution_count": 10,
   "id": "bd873b13",
   "metadata": {
    "editable": true,
    "slideshow": {
     "slide_type": ""
    },
    "tags": [
     "hide-cell"
    ]
   },
   "outputs": [
    {
     "data": {
      "image/png": "[encoded data removed]",
      "text/plain": [
       "<Figure size 1458.05x535.111 with 1 Axes>"
      ]
     },
     "execution_count": 10,
     "metadata": {},
     "output_type": "execute_result"
    }
   ],
   "source": [
    "import math\n",
    "\n",
    "teleport_superposition_circuit: QuantumCircuit\n",
    "\n",
    "state_prep = QuantumCircuit(qr, cr)\n",
    "state_prep.rx(math.pi / 4, s)\n",
    "state_prep.barrier()\n",
    "teleport_superposition_circuit = state_prep.compose(teleportation_circuit)\n",
    "teleport_superposition_circuit.draw(\"mpl\", cregbundle=False)\n",
    "\n",
    "# Uncomment this line to draw your circuit\n",
    "teleport_superposition_circuit.draw(\"mpl\", cregbundle=False)"
   ]
  },
  {
   "cell_type": "code",
   "execution_count": 11,
   "id": "b0d1ffa9",
   "metadata": {
    "editable": true,
    "slideshow": {
     "slide_type": ""
    },
    "tags": []
   },
   "outputs": [
    {
     "data": {
      "image/png": "[encoded data removed]",
      "text/plain": [
       "<Figure size 700x500 with 1 Axes>"
      ]
     },
     "execution_count": 11,
     "metadata": {},
     "output_type": "execute_result"
    }
   ],
   "source": [
    "from qiskit import transpile\n",
    "from qiskit_aer import AerSimulator\n",
    "from qiskit.visualization import plot_histogram\n",
    "\n",
    "sim = AerSimulator()\n",
    "transpiled_circuit = transpile(teleport_superposition_circuit, sim)\n",
    "\n",
    "# run job\n",
    "shots = 1000\n",
    "job = sim.run(transpiled_circuit, shots=shots, dynamic=True)\n",
    "\n",
    "# Get the results and display them\n",
    "exp_result = job.result()\n",
    "exp_counts = exp_result.get_counts()\n",
    "plot_histogram(exp_counts)"
   ]
  },
  {
   "cell_type": "markdown",
   "id": "aa7bbab3",
   "metadata": {
    "editable": true,
    "slideshow": {
     "slide_type": ""
    },
    "tags": []
   },
   "source": [
    "  ```{toggle} 解説\n",
    "  問題のステップ通りに回路を組み立てます。`.compose`メソッドを用いることで、定義済みの回路の結合が可能となります。\n",
    "  ```"
   ]
  },
  {
   "cell_type": "markdown",
   "id": "2d181409",
   "metadata": {
    "editable": true,
    "slideshow": {
     "slide_type": ""
    },
    "tags": []
   },
   "source": [
    "他の測定ビットを無視して、ボブの測定値だけの分布を計算してみましょう。"
   ]
  },
  {
   "cell_type": "code",
   "execution_count": 12,
   "id": "3aa6b824",
   "metadata": {
    "editable": true,
    "slideshow": {
     "slide_type": ""
    },
    "tags": []
   },
   "outputs": [
    {
     "data": {
      "image/png": "[encoded data removed]",
      "text/plain": [
       "<Figure size 700x500 with 1 Axes>"
      ]
     },
     "execution_count": 12,
     "metadata": {},
     "output_type": "execute_result"
    }
   ],
   "source": [
    "# trace out Bob's results on qubit 2\n",
    "from qiskit.result import marginal_counts\n",
    "\n",
    "bobs_counts = marginal_counts(exp_counts, [qr.index(b)])\n",
    "plot_histogram(bobs_counts)"
   ]
  },
  {
   "cell_type": "markdown",
   "id": "c23385ed",
   "metadata": {
    "editable": true,
    "slideshow": {
     "slide_type": ""
    },
    "tags": []
   },
   "source": [
    "周辺分布は、理想的な確率にある程度は近いはずです。"
   ]
  },
  {
   "cell_type": "markdown",
   "id": "053710fe",
   "metadata": {
    "editable": true,
    "slideshow": {
     "slide_type": ""
    },
    "tags": []
   },
   "source": [
    "~~カーク船長~~ アリスの量子ビットが安全にテレポートすることがほぼ確実になったので、実際のハードウェアで量子テレポーテーション回路を実行してみましょう。"
   ]
  },
  {
   "cell_type": "markdown",
   "id": "a9dd923e-9b75-408e-8f7e-1b16c8b7b544",
   "metadata": {
    "editable": true,
    "slideshow": {
     "slide_type": ""
    },
    "tags": [
     "remove-cell"
    ]
   },
   "source": [
    "## 実機を用いた検証"
   ]
  },
  {
   "cell_type": "code",
   "execution_count": 13,
   "id": "11716d0b",
   "metadata": {
    "editable": true,
    "slideshow": {
     "slide_type": ""
    },
    "tags": [
     "remove-cell"
    ]
   },
   "outputs": [],
   "source": [
    "# from qiskit_ibm_provider import IBMProvider\n",
    "\n",
    "# provider = IBMProvider()"
   ]
  },
  {
   "cell_type": "code",
   "execution_count": 14,
   "id": "1d6f3152",
   "metadata": {
    "editable": true,
    "slideshow": {
     "slide_type": ""
    },
    "tags": [
     "remove-cell"
    ]
   },
   "outputs": [],
   "source": [
    "# hub = \"YOUR_HUB\"\n",
    "# group = \"YOUR_GROUP\"\n",
    "# project = \"YOUR_PROJECT\"\n",
    "\n",
    "# backend_name = \"ibm_peekskill\"\n",
    "# backend = provider.get_backend(backend_name, instance=f\"{hub}/{group}/{project}\")"
   ]
  },
  {
   "cell_type": "code",
   "execution_count": 15,
   "id": "43c14621",
   "metadata": {
    "editable": true,
    "slideshow": {
     "slide_type": ""
    },
    "tags": [
     "remove-cell"
    ]
   },
   "outputs": [],
   "source": [
    "# # backend.target.add_instruction(IfElseOp, name=\"if_else\") # Uncomment if necessary\n",
    "# qc_transpiled = transpile(teleport_superposition_circuit, backend)"
   ]
  },
  {
   "cell_type": "code",
   "execution_count": 16,
   "id": "dea33280",
   "metadata": {
    "editable": true,
    "slideshow": {
     "slide_type": ""
    },
    "tags": [
     "remove-cell"
    ]
   },
   "outputs": [],
   "source": [
    "# job = backend.run(qc_transpiled, shots=1000, dynamic=True)"
   ]
  },
  {
   "cell_type": "markdown",
   "id": "cdde743f",
   "metadata": {
    "editable": true,
    "slideshow": {
     "slide_type": ""
    },
    "tags": [
     "remove-cell"
    ]
   },
   "source": [
    "実際のバックエンドで実行するには時間がかかるため、通常はjob_idを使って時間をおいてからジョブを呼び出すことになります。以下のコードは、job_idを通してジョブを呼び出し、実行状況を確認するものです。"
   ]
  },
  {
   "cell_type": "code",
   "execution_count": 17,
   "id": "4ffb2ca3",
   "metadata": {
    "editable": true,
    "jupyter": {
     "source_hidden": true
    },
    "slideshow": {
     "slide_type": ""
    },
    "tags": [
     "remove-cell"
    ]
   },
   "outputs": [],
   "source": [
    "# retrieve_job = provider.retrieve_job(job.job_id())\n",
    "# retrieve_job.status()"
   ]
  },
  {
   "cell_type": "markdown",
   "id": "604be022",
   "metadata": {
    "editable": true,
    "slideshow": {
     "slide_type": ""
    },
    "tags": [
     "remove-cell"
    ]
   },
   "source": [
    "無事に終了したら、結果をインポートしましょう。"
   ]
  },
  {
   "cell_type": "code",
   "execution_count": 18,
   "id": "427919b5",
   "metadata": {
    "editable": true,
    "jupyter": {
     "source_hidden": true
    },
    "slideshow": {
     "slide_type": ""
    },
    "tags": [
     "remove-cell"
    ]
   },
   "outputs": [],
   "source": [
    "# # Get the results and display them\n",
    "# exp_result = retrieve_job.result()\n",
    "# exp_counts = exp_result.get_counts()\n",
    "# plot_histogram(exp_counts)"
   ]
  },
  {
   "cell_type": "code",
   "execution_count": 19,
   "id": "400a2802",
   "metadata": {
    "editable": true,
    "slideshow": {
     "slide_type": ""
    },
    "tags": [
     "remove-cell"
    ]
   },
   "outputs": [],
   "source": [
    "# # trace out Bob's results on qubit 2\n",
    "# from qiskit.result import marginal_counts\n",
    "\n",
    "# bobs_qubit = 2\n",
    "# bobs_counts = marginal_counts(exp_counts, [bobs_qubit])\n",
    "# plot_histogram(bobs_counts)"
   ]
  }
 ],
 "metadata": {
  "kernelspec": {
   "display_name": "iqc2024-performance",
   "language": "python",
   "name": "iqc2024-performance"
  },
  "language_info": {
   "codemirror_mode": {
    "name": "ipython",
    "version": 3
   },
   "file_extension": ".py",
   "mimetype": "text/x-python",
   "name": "python",
   "nbconvert_exporter": "python",
   "pygments_lexer": "ipython3",
   "version": "3.11.2"
  },
  "widgets": {
   "application/vnd.jupyter.widget-state+json": {
    "state": {},
    "version_major": 2,
    "version_minor": 0
   }
  }
 },
 "nbformat": 4,
 "nbformat_minor": 5
}
